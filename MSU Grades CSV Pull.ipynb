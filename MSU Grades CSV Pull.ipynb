{
 "cells": [
  {
   "cell_type": "markdown",
   "id": "d1b1c52b-e8e3-405b-8b12-d7f820273ed7",
   "metadata": {},
   "source": [
    "MSU Grades CSV Analysis"
   ]
  },
  {
   "cell_type": "code",
   "execution_count": 5,
   "id": "639f7c26-1bcb-41cf-a773-d30c50089b3f",
   "metadata": {},
   "outputs": [],
   "source": [
    "import pandas as pd"
   ]
  },
  {
   "cell_type": "code",
   "execution_count": 6,
   "id": "52f8ce76-a3ba-4147-9035-a09e58c67f14",
   "metadata": {},
   "outputs": [
    {
     "data": {
      "text/html": [
       "<div>\n",
       "<style scoped>\n",
       "    .dataframe tbody tr th:only-of-type {\n",
       "        vertical-align: middle;\n",
       "    }\n",
       "\n",
       "    .dataframe tbody tr th {\n",
       "        vertical-align: top;\n",
       "    }\n",
       "\n",
       "    .dataframe thead th {\n",
       "        text-align: right;\n",
       "    }\n",
       "</style>\n",
       "<table border=\"1\" class=\"dataframe\">\n",
       "  <thead>\n",
       "    <tr style=\"text-align: right;\">\n",
       "      <th></th>\n",
       "      <th>TERM_DESCRSHORT</th>\n",
       "      <th>SUBJECT</th>\n",
       "      <th>CRSE_CODE</th>\n",
       "      <th>CLASS_SECTION</th>\n",
       "      <th>COURSE_TITLE_DESCR</th>\n",
       "      <th>INSTRUCTOR</th>\n",
       "      <th>GRADE</th>\n",
       "      <th>GRADE_COUNT</th>\n",
       "    </tr>\n",
       "  </thead>\n",
       "  <tbody>\n",
       "    <tr>\n",
       "      <th>0</th>\n",
       "      <td>FS23</td>\n",
       "      <td>AAAS</td>\n",
       "      <td>100</td>\n",
       "      <td>1</td>\n",
       "      <td>Pathways into AAAS</td>\n",
       "      <td>Brown,Ruth Nicole | Hayes,Robin</td>\n",
       "      <td>2.5</td>\n",
       "      <td>5</td>\n",
       "    </tr>\n",
       "    <tr>\n",
       "      <th>1</th>\n",
       "      <td>FS23</td>\n",
       "      <td>AAAS</td>\n",
       "      <td>100</td>\n",
       "      <td>1</td>\n",
       "      <td>Pathways into AAAS</td>\n",
       "      <td>Brown,Ruth Nicole | Hayes,Robin</td>\n",
       "      <td>3</td>\n",
       "      <td>1</td>\n",
       "    </tr>\n",
       "    <tr>\n",
       "      <th>2</th>\n",
       "      <td>FS23</td>\n",
       "      <td>AAAS</td>\n",
       "      <td>100</td>\n",
       "      <td>1</td>\n",
       "      <td>Pathways into AAAS</td>\n",
       "      <td>Brown,Ruth Nicole | Hayes,Robin</td>\n",
       "      <td>4</td>\n",
       "      <td>30</td>\n",
       "    </tr>\n",
       "    <tr>\n",
       "      <th>3</th>\n",
       "      <td>FS23</td>\n",
       "      <td>AAAS</td>\n",
       "      <td>100</td>\n",
       "      <td>1</td>\n",
       "      <td>Pathways into AAAS</td>\n",
       "      <td>Brown,Ruth Nicole | Hayes,Robin</td>\n",
       "      <td>CR</td>\n",
       "      <td>1</td>\n",
       "    </tr>\n",
       "    <tr>\n",
       "      <th>4</th>\n",
       "      <td>FS23</td>\n",
       "      <td>AAAS</td>\n",
       "      <td>100</td>\n",
       "      <td>2</td>\n",
       "      <td>Pathways into AAAS</td>\n",
       "      <td>Brown,Ruth Nicole | Hayes,Robin</td>\n",
       "      <td>2.5</td>\n",
       "      <td>3</td>\n",
       "    </tr>\n",
       "  </tbody>\n",
       "</table>\n",
       "</div>"
      ],
      "text/plain": [
       "  TERM_DESCRSHORT SUBJECT CRSE_CODE CLASS_SECTION  COURSE_TITLE_DESCR  \\\n",
       "0            FS23    AAAS       100             1  Pathways into AAAS   \n",
       "1            FS23    AAAS       100             1  Pathways into AAAS   \n",
       "2            FS23    AAAS       100             1  Pathways into AAAS   \n",
       "3            FS23    AAAS       100             1  Pathways into AAAS   \n",
       "4            FS23    AAAS       100             2  Pathways into AAAS   \n",
       "\n",
       "                        INSTRUCTOR GRADE  GRADE_COUNT  \n",
       "0  Brown,Ruth Nicole | Hayes,Robin   2.5            5  \n",
       "1  Brown,Ruth Nicole | Hayes,Robin     3            1  \n",
       "2  Brown,Ruth Nicole | Hayes,Robin     4           30  \n",
       "3  Brown,Ruth Nicole | Hayes,Robin    CR            1  \n",
       "4  Brown,Ruth Nicole | Hayes,Robin   2.5            3  "
      ]
     },
     "execution_count": 6,
     "metadata": {},
     "output_type": "execute_result"
    }
   ],
   "source": [
    "file_path = 'MSU_Grades.csv'\n",
    "df = pd.read_csv(file_path)\n",
    "df.head()"
   ]
  },
  {
   "cell_type": "code",
   "execution_count": 23,
   "id": "e9fdb24f-3673-49d8-a75e-17504c69efa9",
   "metadata": {},
   "outputs": [],
   "source": [
    "def get_course_info(subject, class_code):\n",
    "    # Filter the DataFrame based on the given parameters\n",
    "    course_info = df[(df['SUBJECT'] == subject) & (df['CRSE_CODE'] == class_code)]\n",
    "\n",
    "    # Check if there are any rows matching the criteria\n",
    "    if course_info.empty:\n",
    "        return \"No information available for the specified class.\"\n",
    "\n",
    "    # Filter out non-numeric grades\n",
    "    numeric_grades = pd.to_numeric(course_info['GRADE'], errors='coerce')\n",
    "\n",
    "    # Calculate the average grade for all sections\n",
    "    average_grade = numeric_grades.mean()\n",
    "\n",
    "    # Get other relevant information (course title and instructors)\n",
    "    course_title = course_info['COURSE_TITLE_DESCR'].iloc[0]  # Assuming it's the same for all sections\n",
    "    instructors = course_info['INSTRUCTOR'].unique()\n",
    "\n",
    "    # Return the information\n",
    "    return {\n",
    "        'COURSE_TITLE_DESCR': course_title,\n",
    "        'INSTRUCTORS': instructors,\n",
    "        'AVERAGE_GRADE': average_grade\n",
    "    }"
   ]
  },
  {
   "cell_type": "code",
   "execution_count": 28,
   "id": "d6a71736-01f3-403a-a6c3-adc9fab8f144",
   "metadata": {},
   "outputs": [
    {
     "name": "stdout",
     "output_type": "stream",
     "text": [
      "{'COURSE_TITLE_DESCR': 'Algorithmic Thinking/Progrming', 'INSTRUCTORS': array(['Anderson,Yolanda M | Lovell,Tyler James | Wulfekuhler,Marilyn'],\n",
      "      dtype=object), 'AVERAGE_GRADE': 2.2264957264957266}\n"
     ]
    }
   ],
   "source": [
    "# Example usage\n",
    "subject = 'CSE'\n",
    "class_code = '102'\n",
    "\n",
    "course_info = get_course_info(subject, class_code)\n",
    "print(course_info)"
   ]
  },
  {
   "cell_type": "code",
   "execution_count": null,
   "id": "5882eaef-9eea-401f-8a9b-e8e0410213ae",
   "metadata": {},
   "outputs": [],
   "source": []
  },
  {
   "cell_type": "code",
   "execution_count": null,
   "id": "53747fb9-2c1e-47ff-afc2-d040171d95e6",
   "metadata": {},
   "outputs": [],
   "source": []
  },
  {
   "cell_type": "code",
   "execution_count": null,
   "id": "d14af6e9-f2c9-480f-b5de-6fe613a6e084",
   "metadata": {},
   "outputs": [],
   "source": []
  },
  {
   "cell_type": "code",
   "execution_count": null,
   "id": "f583d3d0-7a90-48c0-b8dc-5e1d7ebee3a5",
   "metadata": {},
   "outputs": [],
   "source": []
  }
 ],
 "metadata": {
  "kernelspec": {
   "display_name": "Python 3.11 (default)",
   "language": "python",
   "name": "python3"
  },
  "language_info": {
   "codemirror_mode": {
    "name": "ipython",
    "version": 3
   },
   "file_extension": ".py",
   "mimetype": "text/x-python",
   "name": "python",
   "nbconvert_exporter": "python",
   "pygments_lexer": "ipython3",
   "version": "3.11.6"
  }
 },
 "nbformat": 4,
 "nbformat_minor": 5
}
